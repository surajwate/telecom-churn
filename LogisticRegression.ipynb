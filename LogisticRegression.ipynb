{
  "cells": [
    {
      "cell_type": "markdown",
      "id": "02a73c8b",
      "metadata": {
        "noteable": {
          "cell_type": "markdown"
        }
      },
      "source": [
        "# Telecom Churn Case Study\n",
        "\n",
        "With 21 predictor variables we need to predict whether a particular customer will switch to another telecom provider or not. In telecom terminology, this is referred to as churning and not churning, respectively."
      ]
    },
    {
      "cell_type": "markdown",
      "id": "b75be96b-bace-452a-bc6b-bdc1d207a31d",
      "metadata": {
        "noteable": {
          "cell_type": "markdown"
        }
      },
      "source": [
        "## Step 1: Importing and Merging Data"
      ]
    },
    {
      "cell_type": "code",
      "execution_count": 1,
      "id": "e5f2e233-c3b7-4465-bad5-3e3005987e64",
      "metadata": {
        "ExecuteTime": {
          "end_time": "2023-07-25T10:16:17.775812+00:00",
          "start_time": "2023-07-25T10:16:17.618572+00:00"
        },
        "noteable": {
          "cell_type": "python",
          "output_collection_id": "224b76a1-f68e-4a65-a17e-9bead458b016"
        }
      },
      "outputs": [],
      "source": [
        "# Suppressing Warnings\n",
        "import warnings\n",
        "warnings.filterwarnings('ignore')"
      ]
    },
    {
      "cell_type": "code",
      "execution_count": 2,
      "id": "21521ea3-7697-4d33-bca8-5d55a22a5b59",
      "metadata": {
        "ExecuteTime": {
          "end_time": "2023-07-25T10:17:58.392820+00:00",
          "start_time": "2023-07-25T10:17:58.235590+00:00"
        },
        "jupyter": {
          "outputs_hidden": false,
          "source_hidden": false
        },
        "noteable": {
          "cell_type": "code",
          "output_collection_id": "80c288fc-a352-453e-be6f-fdc047a0b7c9"
        }
      },
      "outputs": [
        {
          "ename": "ModuleNotFoundError",
          "evalue": "No module named 'pandas'",
          "output_type": "error",
          "traceback": [
            "\u001b[1;31m---------------------------------------------------------------------------\u001b[0m",
            "\u001b[1;31mModuleNotFoundError\u001b[0m                       Traceback (most recent call last)",
            "\u001b[1;32md:\\suraj\\coding\\repos\\telecom-churn\\LogisticRegression.ipynb Cell 4\u001b[0m in \u001b[0;36m<cell line: 2>\u001b[1;34m()\u001b[0m\n\u001b[0;32m      <a href='vscode-notebook-cell:/d%3A/suraj/coding/repos/telecom-churn/LogisticRegression.ipynb#W3sZmlsZQ%3D%3D?line=0'>1</a>\u001b[0m \u001b[39m# Importing Pandas and NumPy\u001b[39;00m\n\u001b[1;32m----> <a href='vscode-notebook-cell:/d%3A/suraj/coding/repos/telecom-churn/LogisticRegression.ipynb#W3sZmlsZQ%3D%3D?line=1'>2</a>\u001b[0m \u001b[39mimport\u001b[39;00m \u001b[39mpandas\u001b[39;00m \u001b[39mas\u001b[39;00m \u001b[39mpd\u001b[39;00m\u001b[39m,\u001b[39m \u001b[39mnumpy\u001b[39;00m \u001b[39mas\u001b[39;00m \u001b[39mnp\u001b[39;00m\n",
            "\u001b[1;31mModuleNotFoundError\u001b[0m: No module named 'pandas'"
          ]
        }
      ],
      "source": [
        "# Importing Pandas and NumPy\n",
        "import pandas as pd, numpy as np"
      ]
    },
    {
      "cell_type": "code",
      "execution_count": null,
      "id": "582fcf9c-5b1d-4357-ad93-d1bd264da33c",
      "metadata": {
        "ExecuteTime": {
          "end_time": "2023-07-25T10:21:57.584578+00:00",
          "start_time": "2023-07-25T10:21:57.319143+00:00"
        },
        "datalink": {
          "b32bae9f-02b6-4c71-8b1b-797f6efed21b": {
            "applied_filters": [],
            "dataframe_info": {
              "default_index_used": true,
              "orig_num_cols": 9,
              "orig_num_rows": 5,
              "orig_size_bytes": 400,
              "truncated_num_cols": 9,
              "truncated_num_rows": 5,
              "truncated_size_bytes": 400,
              "truncated_string_columns": []
            },
            "display_id": "b32bae9f-02b6-4c71-8b1b-797f6efed21b",
            "dx_settings": {
              "ALLOW_NOTEABLE_ATTRS": true,
              "COLUMN_SAMPLING_METHOD": "outer",
              "DB_LOCATION": ":memory:",
              "DEV_MODE": false,
              "DISPLAY_MAX_COLUMNS": 100,
              "DISPLAY_MAX_ROWS": 50000,
              "DISPLAY_MODE": "simple",
              "ENABLE_ASSIGNMENT": true,
              "ENABLE_DATALINK": true,
              "FLATTEN_COLUMN_VALUES": true,
              "FLATTEN_INDEX_VALUES": false,
              "GENERATE_DEX_METADATA": false,
              "HTML_TABLE_SCHEMA": false,
              "LOG_LEVEL": 30,
              "MAX_RENDER_SIZE_BYTES": 104857600,
              "MAX_STRING_LENGTH": 250,
              "NUM_PAST_SAMPLES_TRACKED": 3,
              "RANDOM_STATE": 12648430,
              "RESET_INDEX_VALUES": false,
              "ROW_SAMPLING_METHOD": "random",
              "SAMPLING_FACTOR": 0.1,
              "SAMPLING_METHOD": "random",
              "STRINGIFY_COLUMN_VALUES": true,
              "STRINGIFY_INDEX_VALUES": false
            },
            "sample_history": [],
            "sampling_time": "2023-07-25T10:21:57.422252",
            "user_variable_name": null,
            "variable_name": "unk_dataframe_ed661422b08e44e08232c438df944229"
          }
        },
        "jupyter": {
          "outputs_hidden": false,
          "source_hidden": false
        },
        "noteable": {
          "cell_type": "code",
          "output_collection_id": "deffda1b-e3a9-47b4-bb08-947b749d15ef"
        }
      },
      "outputs": [],
      "source": [
        "# Importing all datasets\n",
        "churn_data = pd.read_csv(\"churn_data.csv\")\n",
        "churn_data.head()"
      ]
    },
    {
      "cell_type": "code",
      "execution_count": null,
      "id": "3ebd5d48-030c-4d8f-a8fd-673c45f157d5",
      "metadata": {
        "ExecuteTime": {
          "end_time": "2023-07-25T10:25:27.303257+00:00",
          "start_time": "2023-07-25T10:25:27.085267+00:00"
        },
        "datalink": {
          "c5950f2e-8409-492e-9509-a07e4e003e4f": {
            "applied_filters": [],
            "dataframe_info": {
              "default_index_used": true,
              "orig_num_cols": 5,
              "orig_num_rows": 5,
              "orig_size_bytes": 240,
              "truncated_num_cols": 5,
              "truncated_num_rows": 5,
              "truncated_size_bytes": 240,
              "truncated_string_columns": []
            },
            "display_id": "c5950f2e-8409-492e-9509-a07e4e003e4f",
            "dx_settings": {
              "ALLOW_NOTEABLE_ATTRS": true,
              "COLUMN_SAMPLING_METHOD": "outer",
              "DB_LOCATION": ":memory:",
              "DEV_MODE": false,
              "DISPLAY_MAX_COLUMNS": 100,
              "DISPLAY_MAX_ROWS": 50000,
              "DISPLAY_MODE": "simple",
              "ENABLE_ASSIGNMENT": true,
              "ENABLE_DATALINK": true,
              "FLATTEN_COLUMN_VALUES": true,
              "FLATTEN_INDEX_VALUES": false,
              "GENERATE_DEX_METADATA": false,
              "HTML_TABLE_SCHEMA": false,
              "LOG_LEVEL": 30,
              "MAX_RENDER_SIZE_BYTES": 104857600,
              "MAX_STRING_LENGTH": 250,
              "NUM_PAST_SAMPLES_TRACKED": 3,
              "RANDOM_STATE": 12648430,
              "RESET_INDEX_VALUES": false,
              "ROW_SAMPLING_METHOD": "random",
              "SAMPLING_FACTOR": 0.1,
              "SAMPLING_METHOD": "random",
              "STRINGIFY_COLUMN_VALUES": true,
              "STRINGIFY_INDEX_VALUES": false
            },
            "sample_history": [],
            "sampling_time": "2023-07-25T10:25:27.144456",
            "user_variable_name": null,
            "variable_name": "unk_dataframe_6d89e5e2f43747f6b4f4d9fb2e33801d"
          }
        },
        "jupyter": {
          "outputs_hidden": false,
          "source_hidden": false
        },
        "noteable": {
          "cell_type": "code",
          "output_collection_id": "f4a13d55-7674-4b8e-a743-1a91f6989889"
        }
      },
      "outputs": [],
      "source": [
        "customer_data = pd.read_csv(\"customer_data.csv\")\n",
        "customer_data.head()"
      ]
    },
    {
      "cell_type": "code",
      "execution_count": null,
      "id": "42775d8c-3e3d-478f-ad21-dc84abf942f4",
      "metadata": {
        "ExecuteTime": {
          "end_time": "2023-07-25T10:26:08.587010+00:00",
          "start_time": "2023-07-25T10:26:08.338236+00:00"
        },
        "datalink": {
          "57eb4fb7-46b7-4c26-9da1-abfa82d61e7a": {
            "applied_filters": [],
            "dataframe_info": {
              "default_index_used": true,
              "orig_num_cols": 9,
              "orig_num_rows": 5,
              "orig_size_bytes": 400,
              "truncated_num_cols": 9,
              "truncated_num_rows": 5,
              "truncated_size_bytes": 400,
              "truncated_string_columns": []
            },
            "display_id": "57eb4fb7-46b7-4c26-9da1-abfa82d61e7a",
            "dx_settings": {
              "ALLOW_NOTEABLE_ATTRS": true,
              "COLUMN_SAMPLING_METHOD": "outer",
              "DB_LOCATION": ":memory:",
              "DEV_MODE": false,
              "DISPLAY_MAX_COLUMNS": 100,
              "DISPLAY_MAX_ROWS": 50000,
              "DISPLAY_MODE": "simple",
              "ENABLE_ASSIGNMENT": true,
              "ENABLE_DATALINK": true,
              "FLATTEN_COLUMN_VALUES": true,
              "FLATTEN_INDEX_VALUES": false,
              "GENERATE_DEX_METADATA": false,
              "HTML_TABLE_SCHEMA": false,
              "LOG_LEVEL": 30,
              "MAX_RENDER_SIZE_BYTES": 104857600,
              "MAX_STRING_LENGTH": 250,
              "NUM_PAST_SAMPLES_TRACKED": 3,
              "RANDOM_STATE": 12648430,
              "RESET_INDEX_VALUES": false,
              "ROW_SAMPLING_METHOD": "random",
              "SAMPLING_FACTOR": 0.1,
              "SAMPLING_METHOD": "random",
              "STRINGIFY_COLUMN_VALUES": true,
              "STRINGIFY_INDEX_VALUES": false
            },
            "sample_history": [],
            "sampling_time": "2023-07-25T10:26:08.426751",
            "user_variable_name": null,
            "variable_name": "unk_dataframe_cd926333d3404e4097792010c8beadd4"
          }
        },
        "jupyter": {
          "outputs_hidden": false,
          "source_hidden": false
        },
        "noteable": {
          "cell_type": "code",
          "output_collection_id": "1f53ffd0-85bb-426c-87df-6272b2e2afa8"
        }
      },
      "outputs": [],
      "source": [
        "internet_data = pd.read_csv(\"internet_data.csv\")\n",
        "internet_data.head()"
      ]
    },
    {
      "cell_type": "markdown",
      "id": "c2c98a50-4f9c-4fa6-b4f9-150abb1349c4",
      "metadata": {
        "noteable": {
          "cell_type": "markdown"
        }
      },
      "source": [
        "### Combining all data files into one consolidated dataframe"
      ]
    },
    {
      "cell_type": "code",
      "execution_count": null,
      "id": "2761770b-6736-4ba4-907e-0add8041ebd5",
      "metadata": {
        "ExecuteTime": {
          "end_time": "2023-07-25T10:29:33.071549+00:00",
          "start_time": "2023-07-25T10:29:32.901489+00:00"
        },
        "noteable": {
          "cell_type": "python",
          "output_collection_id": "f57614c3-802f-4a33-bbd8-f96d1e4840f3"
        }
      },
      "outputs": [],
      "source": [
        "# Merging on \"customerID\"\n",
        "df_1 = pd.merge(churn_data, customer_data, how='inner', on='customerID')"
      ]
    },
    {
      "cell_type": "code",
      "execution_count": null,
      "id": "dd3a3b5d-a374-4845-b27f-7c57fb12261b",
      "metadata": {
        "ExecuteTime": {
          "end_time": "2023-07-25T10:29:36.496799+00:00",
          "start_time": "2023-07-25T10:29:36.325781+00:00"
        },
        "jupyter": {
          "outputs_hidden": false,
          "source_hidden": false
        },
        "noteable": {
          "cell_type": "code",
          "output_collection_id": "b21ff0f6-ada6-46f0-87da-dcf52c721f34"
        }
      },
      "outputs": [],
      "source": [
        "# Final dataframe with all predictor variables\n",
        "telecom = pd.merge(df_1, internet_data, how='inner', on='customerID')"
      ]
    },
    {
      "cell_type": "markdown",
      "id": "90878f07-ba30-4806-8dbb-5f9243299bb5",
      "metadata": {
        "noteable": {
          "cell_type": "markdown"
        }
      },
      "source": [
        "## Step 2: Inspecting the Dataframe"
      ]
    },
    {
      "cell_type": "code",
      "execution_count": null,
      "id": "65f1e35b-8974-443a-8042-f12e6bf20b81",
      "metadata": {
        "ExecuteTime": {
          "end_time": "2023-07-25T10:34:19.515500+00:00",
          "start_time": "2023-07-25T10:34:19.230595+00:00"
        },
        "datalink": {
          "cf8dbba5-b0b4-414a-8e8c-659b7b1e09b6": {
            "applied_filters": [],
            "dataframe_info": {
              "default_index_used": true,
              "orig_num_cols": 21,
              "orig_num_rows": 5,
              "orig_size_bytes": 880,
              "truncated_num_cols": 21,
              "truncated_num_rows": 5,
              "truncated_size_bytes": 880,
              "truncated_string_columns": []
            },
            "display_id": "cf8dbba5-b0b4-414a-8e8c-659b7b1e09b6",
            "dx_settings": {
              "ALLOW_NOTEABLE_ATTRS": true,
              "COLUMN_SAMPLING_METHOD": "outer",
              "DB_LOCATION": ":memory:",
              "DEV_MODE": false,
              "DISPLAY_MAX_COLUMNS": 100,
              "DISPLAY_MAX_ROWS": 50000,
              "DISPLAY_MODE": "simple",
              "ENABLE_ASSIGNMENT": true,
              "ENABLE_DATALINK": true,
              "FLATTEN_COLUMN_VALUES": true,
              "FLATTEN_INDEX_VALUES": false,
              "GENERATE_DEX_METADATA": false,
              "HTML_TABLE_SCHEMA": false,
              "LOG_LEVEL": 30,
              "MAX_RENDER_SIZE_BYTES": 104857600,
              "MAX_STRING_LENGTH": 250,
              "NUM_PAST_SAMPLES_TRACKED": 3,
              "RANDOM_STATE": 12648430,
              "RESET_INDEX_VALUES": false,
              "ROW_SAMPLING_METHOD": "random",
              "SAMPLING_FACTOR": 0.1,
              "SAMPLING_METHOD": "random",
              "STRINGIFY_COLUMN_VALUES": true,
              "STRINGIFY_INDEX_VALUES": false
            },
            "sample_history": [],
            "sampling_time": "2023-07-25T10:34:19.353805",
            "user_variable_name": null,
            "variable_name": "unk_dataframe_2f20d6164db84fcb8e8b15c031e71492"
          }
        },
        "noteable": {
          "cell_type": "python",
          "output_collection_id": "1bd2a688-384e-459b-b0b9-27247b210ae1"
        },
        "scrolled": false
      },
      "outputs": [],
      "source": [
        "# Head of our master dataset\n",
        "telecom.head()"
      ]
    },
    {
      "cell_type": "code",
      "execution_count": null,
      "id": "1b8f1b62-f9da-411b-af93-53051493c665",
      "metadata": {
        "ExecuteTime": {
          "end_time": "2023-07-25T10:47:07.773800+00:00",
          "start_time": "2023-07-25T10:47:07.611823+00:00"
        },
        "jupyter": {
          "outputs_hidden": false,
          "source_hidden": false
        },
        "noteable": {
          "cell_type": "code",
          "output_collection_id": "a3b11982-1e1a-42e3-96e0-d5f8c9ef6741"
        },
        "scrolled": false
      },
      "outputs": [],
      "source": [
        "# Check the dimensions of the dataframe\n",
        "telecom.shape"
      ]
    },
    {
      "cell_type": "code",
      "execution_count": null,
      "id": "91537e3b-8d0d-417b-ba04-9ae280591c45",
      "metadata": {
        "ExecuteTime": {
          "end_time": "2023-07-25T10:47:58.404545+00:00",
          "start_time": "2023-07-25T10:47:58.193952+00:00"
        },
        "datalink": {
          "b6417768-163e-4b0b-883f-3da623b39da4": {
            "applied_filters": [],
            "dataframe_info": {
              "default_index_used": false,
              "orig_num_cols": 3,
              "orig_num_rows": 8,
              "orig_size_bytes": 256,
              "truncated_num_cols": 3,
              "truncated_num_rows": 8,
              "truncated_size_bytes": 256,
              "truncated_string_columns": []
            },
            "display_id": "b6417768-163e-4b0b-883f-3da623b39da4",
            "dx_settings": {
              "ALLOW_NOTEABLE_ATTRS": true,
              "COLUMN_SAMPLING_METHOD": "outer",
              "DB_LOCATION": ":memory:",
              "DEV_MODE": false,
              "DISPLAY_MAX_COLUMNS": 100,
              "DISPLAY_MAX_ROWS": 50000,
              "DISPLAY_MODE": "simple",
              "ENABLE_ASSIGNMENT": true,
              "ENABLE_DATALINK": true,
              "FLATTEN_COLUMN_VALUES": true,
              "FLATTEN_INDEX_VALUES": false,
              "GENERATE_DEX_METADATA": false,
              "HTML_TABLE_SCHEMA": false,
              "LOG_LEVEL": 30,
              "MAX_RENDER_SIZE_BYTES": 104857600,
              "MAX_STRING_LENGTH": 250,
              "NUM_PAST_SAMPLES_TRACKED": 3,
              "RANDOM_STATE": 12648430,
              "RESET_INDEX_VALUES": false,
              "ROW_SAMPLING_METHOD": "random",
              "SAMPLING_FACTOR": 0.1,
              "SAMPLING_METHOD": "random",
              "STRINGIFY_COLUMN_VALUES": true,
              "STRINGIFY_INDEX_VALUES": false
            },
            "sample_history": [],
            "sampling_time": "2023-07-25T10:47:58.246965",
            "user_variable_name": null,
            "variable_name": "unk_dataframe_463b4b290140423d8416eaba08a162cb"
          }
        },
        "jupyter": {
          "outputs_hidden": false,
          "source_hidden": false
        },
        "noteable": {
          "cell_type": "code",
          "output_collection_id": "21daece2-6be2-4aa4-a766-c5e48bb2c77c"
        },
        "scrolled": false
      },
      "outputs": [],
      "source": [
        "# Statistics aspects of the dataframe\n",
        "telecom.describe()"
      ]
    },
    {
      "cell_type": "code",
      "execution_count": null,
      "id": "eece0910-9e29-4f2d-8ed1-8cf4269c3f94",
      "metadata": {
        "jupyter": {
          "outputs_hidden": false,
          "source_hidden": false
        },
        "noteable": {
          "cell_type": "code"
        }
      },
      "outputs": [],
      "source": [
        "# Let's see the type of each column\n",
        "telecom.info()"
      ]
    },
    {
      "cell_type": "markdown",
      "id": "feaf0a11-4874-4607-a3da-afda5142c67b",
      "metadata": {
        "noteable": {
          "cell_type": "markdown"
        }
      },
      "source": [
        "## Step 3: Data Preparation"
      ]
    },
    {
      "cell_type": "markdown",
      "id": "d9904d4a-88ab-4d7d-8645-07a011adb14e",
      "metadata": {
        "noteable": {
          "cell_type": "markdown"
        }
      },
      "source": [
        "## Step 4: Test-Train Split"
      ]
    },
    {
      "cell_type": "markdown",
      "id": "31d5440e-b585-4190-ad92-7e838be38651",
      "metadata": {
        "noteable": {
          "cell_type": "markdown"
        }
      },
      "source": [
        "## Step 5: Feature Scaling"
      ]
    },
    {
      "cell_type": "markdown",
      "id": "f770c2a6-8ad6-46c8-8c91-0572e313d600",
      "metadata": {
        "noteable": {
          "cell_type": "markdown"
        }
      },
      "source": [
        "## Step 6: Looking at Correlations"
      ]
    },
    {
      "cell_type": "markdown",
      "id": "ec57bf4a-e727-4b5f-8add-73b67d8444ef",
      "metadata": {
        "noteable": {
          "cell_type": "markdown"
        }
      },
      "source": [
        "## Step 7: Model Building"
      ]
    },
    {
      "cell_type": "markdown",
      "id": "4b035deb-c6fc-48b7-8880-aa39d1b298d4",
      "metadata": {
        "noteable": {
          "cell_type": "markdown"
        }
      },
      "source": [
        "## Step 8: Feature Selection Using RFE"
      ]
    },
    {
      "cell_type": "markdown",
      "id": "c8340eda-b680-42f7-b44c-a086ff0b0e3b",
      "metadata": {
        "noteable": {
          "cell_type": "markdown"
        }
      },
      "source": [
        "## Step 9: Plotting the ROC Curve"
      ]
    },
    {
      "cell_type": "markdown",
      "id": "42e82a26-c5f8-41d9-9e57-9e4c00225644",
      "metadata": {
        "noteable": {
          "cell_type": "markdown"
        }
      },
      "source": [
        "## Step 10: Finding Optimal Cutoff Point"
      ]
    },
    {
      "cell_type": "markdown",
      "id": "6b49338d-b91f-47ae-a045-823e0211befd",
      "metadata": {
        "noteable": {
          "cell_type": "markdown"
        }
      },
      "source": [
        "## Step 11: Making predictions on the test set"
      ]
    },
    {
      "cell_type": "markdown",
      "id": "5ac6611d-41e3-438c-80cf-0b3f85f051cb",
      "metadata": {
        "noteable": {
          "cell_type": "markdown"
        }
      },
      "source": []
    }
  ],
  "metadata": {
    "kernel_info": {
      "name": "python3"
    },
    "kernelspec": {
      "display_name": "Python 3.9",
      "language": "python",
      "name": "python3"
    },
    "language_info": {
      "codemirror_mode": {
        "name": "ipython",
        "version": 3
      },
      "file_extension": ".py",
      "mimetype": "text/x-python",
      "name": "python",
      "nbconvert_exporter": "python",
      "pygments_lexer": "ipython3",
      "version": "3.10.5"
    },
    "noteable": {
      "last_transaction_id": "e617d141-4d2c-4287-a52f-3a0a9adb596a"
    },
    "selected_hardware_size": "small"
  },
  "nbformat": 4,
  "nbformat_minor": 5
}
